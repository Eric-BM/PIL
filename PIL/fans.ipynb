{
 "cells": [
  {
   "cell_type": "code",
   "execution_count": 1,
   "id": "97c50d59",
   "metadata": {},
   "outputs": [],
   "source": [
    "from selenium import webdriver\n",
    "import csv\n",
    "import time"
   ]
  },
  {
   "cell_type": "code",
   "execution_count": 3,
   "id": "5b34a5ea",
   "metadata": {},
   "outputs": [],
   "source": [
    "options = webdriver.ChromeOptions()\n",
    "#options.add_argument('--headless')\n",
    "#options.add_argument('--disable-gpu')"
   ]
  },
  {
   "cell_type": "code",
   "execution_count": 38,
   "id": "5820928f",
   "metadata": {},
   "outputs": [
    {
     "name": "stderr",
     "output_type": "stream",
     "text": [
      "/var/folders/km/9cz5bvw16vdfnnv6fb6fk3sm0000gn/T/ipykernel_46409/3046241053.py:1: DeprecationWarning: use options instead of chrome_options\n",
      "  driver= webdriver.Chrome(chrome_options=options)\n"
     ]
    }
   ],
   "source": [
    "driver= webdriver.Chrome(chrome_options=options)"
   ]
  },
  {
   "cell_type": "code",
   "execution_count": 26,
   "id": "5418751d",
   "metadata": {},
   "outputs": [
    {
     "name": "stdout",
     "output_type": "stream",
     "text": [
      "粉丝529.4万\n",
      "粉丝392.2万\n"
     ]
    }
   ],
   "source": [
    "for i in Url:\n",
    "    driver.get(i)\n",
    "    B = driver.execute_script(\"\"\"\n",
    "        b = document.getElementsByClassName(\"ALink_none_1w6rm ProfileHeader_alink_tjHJR\")[0].innerText\n",
    "        return b\n",
    "    \"\"\")\n",
    "    print(B)"
   ]
  },
  {
   "cell_type": "code",
   "execution_count": 40,
   "id": "d74b9d5f",
   "metadata": {},
   "outputs": [
    {
     "name": "stdout",
     "output_type": "stream",
     "text": [
      "粉丝377.6万\n",
      "粉丝596.1万\n",
      "粉丝313.7万\n",
      "粉丝1\n",
      "粉丝358.1万\n",
      "粉丝239.2万\n",
      "粉丝419.7万\n"
     ]
    }
   ],
   "source": [
    "with open('kolfansdata.csv','r') as f:\n",
    "    reader = csv.reader(f)\n",
    "    for item in reader:\n",
    "        # 忽略第一行\n",
    "        if reader.line_num == 1:\n",
    "            continue\n",
    "        urls = [row[1] for row in reader]\n",
    "for url in urls:\n",
    "    driver.get(url)\n",
    "    time.sleep(3) \n",
    "    B = driver.execute_script(\"\"\"\n",
    "        b = document.getElementsByClassName(\"ALink_none_1w6rm ProfileHeader_alink_tjHJR\")\n",
    "        return b[0].innerText\n",
    "    \"\"\")\n",
    "    print(B)"
   ]
  },
  {
   "cell_type": "code",
   "execution_count": null,
   "id": "78206647",
   "metadata": {},
   "outputs": [],
   "source": []
  }
 ],
 "metadata": {
  "kernelspec": {
   "display_name": "Python 3 (ipykernel)",
   "language": "python",
   "name": "python3"
  },
  "language_info": {
   "codemirror_mode": {
    "name": "ipython",
    "version": 3
   },
   "file_extension": ".py",
   "mimetype": "text/x-python",
   "name": "python",
   "nbconvert_exporter": "python",
   "pygments_lexer": "ipython3",
   "version": "3.9.12"
  }
 },
 "nbformat": 4,
 "nbformat_minor": 5
}
